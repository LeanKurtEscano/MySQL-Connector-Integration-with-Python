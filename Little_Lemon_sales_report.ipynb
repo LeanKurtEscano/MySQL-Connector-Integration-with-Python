{
 "cells": [
  {
   "cell_type": "code",
   "execution_count": 3,
   "id": "d5057b6b-0342-4e26-9a02-aa1f2c40c9ad",
   "metadata": {},
   "outputs": [],
   "source": [
    "import mysql.connector as connector"
   ]
  },
  {
   "cell_type": "code",
   "execution_count": 7,
   "id": "0a239e4e-3f24-489b-b337-b626acabf98c",
   "metadata": {},
   "outputs": [
    {
     "name": "stdout",
     "output_type": "stream",
     "text": [
      "Succesfully Connected\n"
     ]
    }
   ],
   "source": [
    "try:\n",
    "    connection = connector.connect(\n",
    "            host=os.getenv(\"DB_HOST\"),\n",
    "            port=int(os.getenv(\"DB_PORT\", 3306)),\n",
    "            user=os.getenv(\"DB_USER\"),\n",
    "            password=os.getenv(\"DB_PASSWORD\"),\n",
    "        )\n",
    "    print(\"Succesfully Connected\")\n",
    "except:\n",
    "    print(\"Connection failed\")"
   ]
  },
  {
   "cell_type": "code",
   "execution_count": 15,
   "id": "10a305dc-d9ff-489f-a17a-28a41de22652",
   "metadata": {},
   "outputs": [],
   "source": [
    "cursor = connection.cursor()\n"
   ]
  },
  {
   "cell_type": "code",
   "execution_count": 16,
   "id": "c21e5658-1d08-4e9f-8c67-12a85adda7b2",
   "metadata": {},
   "outputs": [],
   "source": [
    "cursor.execute(\"USE little_lemon_db\")"
   ]
  },
  {
   "cell_type": "code",
   "execution_count": null,
   "id": "206a1229-9636-49ed-b546-bfd79f3dc906",
   "metadata": {},
   "outputs": [],
   "source": [
    "\n",
    "#MenuItems table\n",
    "create_menuitem_table = \"\"\"CREATE TABLE MenuItems (\n",
    "ItemID INT AUTO_INCREMENT,\n",
    "Name VARCHAR(200),\n",
    "Type VARCHAR(100),\n",
    "Price INT,\n",
    "PRIMARY KEY (ItemID)\n",
    ");\"\"\"\n",
    "\n",
    "create_menu_table = \"\"\"CREATE TABLE Menus (\n",
    "MenuID INT,\n",
    "ItemID INT,\n",
    "Cuisine VARCHAR(100),\n",
    "PRIMARY KEY (MenuID,ItemID)\n",
    ");\"\"\"\n",
    "\n",
    "create_booking_table = \"\"\"CREATE TABLE Bookings (\n",
    "BookingID INT AUTO_INCREMENT,\n",
    "TableNo INT,\n",
    "GuestFirstName VARCHAR(100) NOT NULL,\n",
    "GuestLastName VARCHAR(100) NOT NULL,\n",
    "BookingSlot TIME NOT NULL,\n",
    "EmployeeID INT,\n",
    "PRIMARY KEY (BookingID)\n",
    ");\"\"\"\n",
    "\n",
    "create_orders_table = \"\"\"CREATE TABLE Orders (\n",
    "OrderID INT,\n",
    "TableNo INT,\n",
    "MenuID INT,\n",
    "BookingID INT,\n",
    "BillAmount INT,\n",
    "Quantity INT,\n",
    "PRIMARY KEY (OrderID,TableNo)\n",
    ");\"\"\"\n",
    "\n",
    "create_employees_table = \"\"\"CREATE TABLE Employees (\n",
    "EmployeeID INT AUTO_INCREMENT PRIMARY KEY,\n",
    "Name VARCHAR (255),\n",
    "Role VARCHAR (100),\n",
    "Address VARCHAR (255),\n",
    "Contact_Number INT,\n",
    "Email VARCHAR (255),\n",
    "Annual_Salary VARCHAR (100)\n",
    ");\"\"\""
   ]
  },
  {
   "cell_type": "code",
   "execution_count": 17,
   "id": "50faaf88-7da8-4333-9fb9-eb8c8e576ed9",
   "metadata": {},
   "outputs": [],
   "source": [
    "# Create MenuItems table\n",
    "cursor.execute(create_menuitem_table)\n",
    "\n",
    "# Create Menu table\n",
    "cursor.execute(create_menu_table)\n",
    "\n",
    "# Create Bookings table\n",
    "cursor.execute(create_booking_table)\n",
    "\n",
    "# Create Orders table\n",
    "cursor.execute(create_orders_table)\n",
    "\n",
    "# Create Employees table\n",
    "cursor.execute(create_employees_table)"
   ]
  },
  {
   "cell_type": "code",
   "execution_count": 18,
   "id": "e524527b-0f92-4c8a-a309-56eb153616c6",
   "metadata": {},
   "outputs": [
    {
     "name": "stdout",
     "output_type": "stream",
     "text": [
      "('BookingID', 'TableNo', 'GuestFirstName', 'GuestLastName', 'BookingSlot', 'EmployeeID')\n"
     ]
    }
   ],
   "source": [
    "cursor.execute(\"\"\"SELECT * FROM Bookings\"\"\")\n",
    "print(cursor.column_names)"
   ]
  },
  {
   "cell_type": "code",
   "execution_count": 25,
   "id": "7589388a-675f-4889-b7b7-8dd7b5f9ee5a",
   "metadata": {},
   "outputs": [],
   "source": [
    "\n",
    "insert_menuitems=\"\"\"\n",
    "INSERT INTO MenuItems (ItemID, Name, Type, Price)\n",
    "VALUES\n",
    "(1, 'Olives','Starters',5),\n",
    "(2, 'Flatbread','Starters', 5),\n",
    "(3, 'Minestrone', 'Starters', 8),\n",
    "(4, 'Tomato bread','Starters', 8),\n",
    "(5, 'Falafel', 'Starters', 7),\n",
    "(6, 'Hummus', 'Starters', 5),\n",
    "(7, 'Greek salad', 'Main Courses', 15),\n",
    "(8, 'Bean soup', 'Main Courses', 12),\n",
    "(9, 'Pizza', 'Main Courses', 15),\n",
    "(10, 'Greek yoghurt','Desserts', 7),\n",
    "(11, 'Ice cream', 'Desserts', 6),\n",
    "(12, 'Cheesecake', 'Desserts', 4),\n",
    "(13, 'Athens White wine', 'Drinks', 25),\n",
    "(14, 'Corfu Red Wine', 'Drinks', 30),\n",
    "(15, 'Turkish Coffee', 'Drinks', 10),\n",
    "(16, 'Turkish Coffee', 'Drinks', 10),\n",
    "(17, 'Kabasa', 'Main Courses', 17);\"\"\"\n",
    "\n",
    "insert_menu=\"\"\"\n",
    "INSERT INTO Menus (MenuID,ItemID,Cuisine)\n",
    "VALUES\n",
    "(1, 1, 'Greek'),\n",
    "(1, 7, 'Greek'),\n",
    "(1, 10, 'Greek'),\n",
    "(1, 13, 'Greek'),\n",
    "(2, 3, 'Italian'),\n",
    "(2, 9, 'Italian'),\n",
    "(2, 12, 'Italian'),\n",
    "(2, 15, 'Italian'),\n",
    "(3, 5, 'Turkish'),\n",
    "(3, 17, 'Turkish'),\n",
    "(3, 11, 'Turkish'),\n",
    "(3, 16, 'Turkish');\"\"\"\n",
    "\n",
    "insert_bookings=\"\"\"\n",
    "INSERT INTO Bookings (BookingID, TableNo, GuestFirstName, \n",
    "GuestLastName, BookingSlot, EmployeeID)\n",
    "VALUES\n",
    "(1, 12, 'Anna','Iversen','19:00:00',1),\n",
    "(2, 12, 'Joakim', 'Iversen', '19:00:00', 1),\n",
    "(3, 19, 'Vanessa', 'McCarthy', '15:00:00', 3),\n",
    "(4, 15, 'Marcos', 'Romero', '17:30:00', 4),\n",
    "(5, 5, 'Hiroki', 'Yamane', '18:30:00', 2),\n",
    "(6, 8, 'Diana', 'Pinto', '20:00:00', 5);\"\"\"\n",
    "\n",
    "insert_orders=\"\"\"\n",
    "INSERT INTO Orders (OrderID, TableNo, MenuID, BookingID, Quantity, BillAmount)\n",
    "VALUES\n",
    "(1, 12, 1, 1, 2, 86),\n",
    "(2, 19, 2, 2, 1, 37),\n",
    "(3, 15, 2, 3, 1, 37),\n",
    "(4, 5, 3, 4, 1, 40),\n",
    "(5, 8, 1, 5, 1, 43);\"\"\"\n",
    "\n",
    "insert_employees = \"\"\"\n",
    "INSERT INTO employees(EmployeeID, Name, Role, Address, Contact_Number, Email, Annual_Salary) VALUES\n",
    "(01,'Mario Gollini','Manager','724, Parsley Lane, Old Town, Chicago, IL',351258074,'Mario.g@littlelemon.com','$70,000'),\n",
    "(02,'Adrian Gollini','Assistant Manager','334, Dill Square, Lincoln Park, Chicago, IL',351474048,'Adrian.g@littlelemon.com','$65,000'),\n",
    "(03,'Giorgos Dioudis','Head Chef','879 Sage Street, West Loop, Chicago, IL',351970582,'Giorgos.d@littlelemon.com','$50,000'),\n",
    "(04,'Fatma Kaya','Assistant Chef','132  Bay Lane, Chicago, IL',351963569,'Fatma.k@littlelemon.com','$45,000'),\n",
    "(05,'Elena Salvai','Head Waiter','989 Thyme Square, EdgeWater, Chicago, IL',351074198,'Elena.s@littlelemon.com','$40,000'),\n",
    "(06,'John Millar','Receptionist','245 Dill Square, Lincoln Park, Chicago, IL',351584508,'John.m@littlelemon.com','$35,000');\"\"\"\n",
    "\n",
    "# Populate MenuItems table\n",
    "cursor.execute(insert_menuitems)\n",
    "connection.commit()\n",
    "\n",
    " #Populate MenuItems table\n",
    "cursor.execute(insert_menu)\n",
    "connection.commit()\n",
    "\n",
    " #Populate Bookings table\n",
    "cursor.execute(insert_bookings)\n",
    "connection.commit()\n",
    "\n",
    "# Populate Orders table\n",
    "cursor.execute(insert_orders)\n",
    "connection.commit()\n",
    "\n",
    "# Populate Employees table\n",
    "cursor.execute(insert_employees)\n",
    "connection.commit()"
   ]
  },
  {
   "cell_type": "code",
   "execution_count": 48,
   "id": "84bdc64b-358a-433f-9b02-a0034834a5a2",
   "metadata": {},
   "outputs": [],
   "source": [
    "from mysql.connector.pooling import MySQLConnectionPool"
   ]
  },
  {
   "cell_type": "code",
   "execution_count": null,
   "id": "7c610f59-cf21-49e9-a2bc-bb901d8f1803",
   "metadata": {},
   "outputs": [],
   "source": [
    "db_config = {\n",
    "    \"user\": os.getenv(\"DB_USER\"),\n",
    "    \"password\": os.getenv(\"DB_PASSWORD\"),\n",
    "    \"host\": os.getenv(\"DB_HOST\"),\n",
    "    \"port\": 3306,\n",
    "    \"database\": os.getenv(\"DB_NAME\")\n",
    "}"
   ]
  },
  {
   "cell_type": "code",
   "execution_count": 6,
   "id": "34360ee9-8ba7-49e2-962a-385bdbc9c005",
   "metadata": {},
   "outputs": [
    {
     "name": "stdout",
     "output_type": "stream",
     "text": [
      "Connection Succesful\n"
     ]
    }
   ],
   "source": [
    "try:\n",
    "    pool = MySQLConnectionPool(\n",
    "            pool_name=\"mypool\",\n",
    "            pool_size=2,\n",
    "            **db_config\n",
    "          \n",
    "        )\n",
    "    connection = pool.get_connection()\n",
    "    cursor = connection.cursor()\n",
    "    print(\"Connection Succesful\")\n",
    "except:\n",
    "    print(\"Connection Failed\")\n",
    "    \n"
   ]
  },
  {
   "cell_type": "code",
   "execution_count": null,
   "id": "0c22a335-facb-4e58-9e99-e87652b96d84",
   "metadata": {},
   "outputs": [],
   "source": [
    "\n",
    "cursor.execute( \"\"\"CREATE PROCEDURE PeakHours()\n",
    "BEGIN\n",
    "SELECT HOUR(BookingSlot) AS Hour ,COUNT(*) as no_bookings FROM Bookings GROUP BY Hour ORDER BY no_bookings DESC;\n",
    "END\"\"\")\n",
    "\n",
    "print(\"Procedure is succesfully created\")\n",
    "\n",
    "\n"
   ]
  },
  {
   "cell_type": "code",
   "execution_count": 7,
   "id": "02aa2390-e705-41b9-96cf-0c2b254bda4b",
   "metadata": {},
   "outputs": [
    {
     "name": "stdout",
     "output_type": "stream",
     "text": [
      "Booking Hour: 19 Number of Bookings: 2\n",
      "Booking Hour: 15 Number of Bookings: 1\n",
      "Booking Hour: 17 Number of Bookings: 1\n",
      "Booking Hour: 18 Number of Bookings: 1\n",
      "Booking Hour: 20 Number of Bookings: 1\n"
     ]
    }
   ],
   "source": [
    "cursor.callproc(\"PeakHours\")\n",
    "\n",
    "for r in cursor.stored_results():\n",
    "    result = r.fetchall()\n",
    "    for t in result:\n",
    "        print(f\"Booking Hour: {t[0]} Number of Bookings: {t[1]}\")\n",
    "    "
   ]
  },
  {
   "cell_type": "code",
   "execution_count": 42,
   "id": "72ed3d67-a445-4d9e-8f74-0e8c6a531ae1",
   "metadata": {},
   "outputs": [],
   "source": [
    "cursor.execute(\"\"\"CREATE PROCEDURE GuestStatus()\n",
    "BEGIN\n",
    "SELECT CONCAT(b.GuestFirstName,' ',b.GuestLastName), \n",
    "CASE \n",
    "WHEN Role IN (\"Manager\",\"Assistant Manager\") THEN \"Ready to pay\"\n",
    "WHEN Role =\"Head Chef\" THEN \"Ready to serve\"\n",
    "WHEN Role =\"Assistant Chef\" THEN \"Preparing Order\"\n",
    "WHEN Role =\"Head Waiter\" THEN \" Order served\"\n",
    "ELSE Role\n",
    "END AS Status\n",
    "FROM Bookings AS b INNER JOIN Employees as e ON b.EmployeeID = e.EmployeeID;\n",
    "END\"\"\")"
   ]
  },
  {
   "cell_type": "code",
   "execution_count": 43,
   "id": "f41c3864-c526-4e23-b6e7-bff9d67f61c1",
   "metadata": {},
   "outputs": [
    {
     "name": "stdout",
     "output_type": "stream",
     "text": [
      "Name:Anna Iversen  Status: Ready to pay\n",
      "Name:Joakim Iversen  Status: Ready to pay\n",
      "Name:Vanessa McCarthy  Status: Ready to serve\n",
      "Name:Marcos Romero  Status: Preparing Order\n",
      "Name:Hiroki Yamane  Status: Ready to pay\n",
      "Name:Diana Pinto  Status:  Order served\n"
     ]
    }
   ],
   "source": [
    "\n",
    "cursor.callproc(\"GuestStatus\")\n",
    "\n",
    "for r in cursor.stored_results():\n",
    "    dataset= r.fetchall()\n",
    "    for t in dataset:\n",
    "        print(f\"Name:{t[0]}  Status: {t[1]}\")\n",
    "\n"
   ]
  },
  {
   "cell_type": "code",
   "execution_count": 8,
   "id": "8c13854d-99e1-4e47-adcd-de03c3dacb2a",
   "metadata": {},
   "outputs": [
    {
     "name": "stdout",
     "output_type": "stream",
     "text": [
      "Returned Connection back to the pool\n"
     ]
    }
   ],
   "source": [
    "try:   \n",
    "    cursor.close()\n",
    "    connection.close()\n",
    "    print(\"Returned Connection back to the pool\")\n",
    "except:\n",
    "    print(\"Failed to close connection\")"
   ]
  },
  {
   "cell_type": "code",
   "execution_count": 26,
   "id": "39658f40-30ef-4281-bb49-b11eaa3530a6",
   "metadata": {},
   "outputs": [
    {
     "name": "stdout",
     "output_type": "stream",
     "text": [
      "Pool is succesfully created\n"
     ]
    }
   ],
   "source": [
    "\n",
    "try:\n",
    "    pool_b = MySQLConnectionPool(pool_name=\"new_pool\",pool_size=2,**db_config)\n",
    "    print(\"Pool is succesfully created\")\n",
    "except:\n",
    "    print(\"Failed to create pool\")\n",
    "    "
   ]
  },
  {
   "cell_type": "code",
   "execution_count": 28,
   "id": "0761bca2-6822-4687-8e48-f0b60adcb837",
   "metadata": {},
   "outputs": [
    {
     "name": "stdout",
     "output_type": "stream",
     "text": [
      "Guest 1 is connected and data inserted\n",
      "Guest 2 is connected and data inserted\n",
      "Guest 3 is connected and data inserted\n"
     ]
    }
   ],
   "source": [
    " #Connect 2 Guests and showcase how to handle the pool if its full\n",
    "import mysql.connector\n",
    "from mysql.connector import pooling, Error\n",
    "\n",
    "\n",
    "import mysql.connector\n",
    "from mysql.connector import pooling, Error\n",
    "\n",
    "\n",
    "try:\n",
    "    # User 1 connection and insert\n",
    "    user_1 = pool_b.get_connection()\n",
    "    cursor1 = user_1.cursor()\n",
    "    cursor1.execute(\"\"\"INSERT INTO Bookings(TableNo,GuestFirstName,GuestLastName,BookingSlot,EmployeeID) \n",
    "                       VALUES (8, 'Anees', 'Java', '18:00:00', 6);\"\"\")\n",
    "    user_1.commit()\n",
    "    print(\"Guest 1 is connected and data inserted\")\n",
    "\n",
    "    # Close the cursor and connection immediately after committing\n",
    "    cursor1.close()\n",
    "    user_1.close()\n",
    "\n",
    "    # User 2 connection and insert\n",
    "    user_2 = pool_b.get_connection()\n",
    "    cursor2 = user_2.cursor()\n",
    "    cursor2.execute(\"\"\"INSERT INTO Bookings(TableNo,GuestFirstName,GuestLastName,BookingSlot,EmployeeID) \n",
    "                       VALUES (5, 'Bald', 'Vin', '19:00:00', 6);\"\"\")\n",
    "    user_2.commit()\n",
    "    print(\"Guest 2 is connected and data inserted\")\n",
    "\n",
    "    # Close the cursor and connection immediately after committing\n",
    "    cursor2.close()\n",
    "    user_2.close()\n",
    "\n",
    "    # User 3 connection and insert\n",
    "    try:\n",
    "        user_3 = pool_b.get_connection()\n",
    "    except pooling.PoolError:\n",
    "        print(\"Pool is full, creating a new connection for Guest 3\")\n",
    "        conn = mysql.connector.connect(user= os.getenv(\"DB_USER\"),password=os.getenv(\"DB_PASSWORD\"))\n",
    "        pool_b.add_connection(cnx=conn)\n",
    "        user_3 = pool_b.get_connection()\n",
    "\n",
    "    cursor3 = user_3.cursor()\n",
    "    cursor3.execute(\"\"\"INSERT INTO Bookings(TableNo,GuestFirstName,GuestLastName,BookingSlot,EmployeeID) \n",
    "                       VALUES (12, 'Jay', 'Kon', '19:30:00', 6);\"\"\")\n",
    "    user_3.commit()\n",
    "    print(\"Guest 3 is connected and data inserted\")\n",
    "\n",
    "    # Close the cursor and connection immediately after committing\n",
    "    cursor3.close()\n",
    "    user_3.close()\n",
    "\n",
    "except Error as e:\n",
    "    print(\"An Error Occurred\")\n",
    "    print(f\"Error: {e}\")\n",
    "\n",
    "\n",
    "    "
   ]
  },
  {
   "cell_type": "code",
   "execution_count": 36,
   "id": "99ade48e-dffe-4afa-b3a3-2b03e7d4e026",
   "metadata": {},
   "outputs": [
    {
     "name": "stdout",
     "output_type": "stream",
     "text": [
      "Succesfully Connected\n",
      "[(1, 12, 'Anna', 'Iversen', datetime.timedelta(seconds=68400), 1), (2, 12, 'Joakim', 'Iversen', datetime.timedelta(seconds=68400), 1), (3, 19, 'Vanessa', 'McCarthy', datetime.timedelta(seconds=54000), 3), (4, 15, 'Marcos', 'Romero', datetime.timedelta(seconds=63000), 4), (5, 5, 'Hiroki', 'Yamane', datetime.timedelta(seconds=66600), 2), (6, 8, 'Diana', 'Pinto', datetime.timedelta(seconds=72000), 5), (9, 8, 'Anees', 'Java', datetime.timedelta(seconds=64800), 6), (10, 5, 'Bald', 'Vin', datetime.timedelta(seconds=68400), 6), (11, 12, 'Jay', 'Kon', datetime.timedelta(seconds=70200), 6), (12, 8, 'Anees', 'Java', datetime.timedelta(seconds=64800), 6), (13, 5, 'Bald', 'Vin', datetime.timedelta(seconds=68400), 6), (14, 12, 'Jay', 'Kon', datetime.timedelta(seconds=70200), 6)]\n"
     ]
    }
   ],
   "source": [
    "#Check if values was inserted\n",
    "connection = connector.connect(\n",
    "            port=3306,\n",
    "            host=os.getenv(\"DB_HOST\"),\n",
    "            user=os.getenv(\"DB_USER\"),\n",
    "            password=os.getenv(\"DB_PASSWORD\"),         \n",
    "        )\n",
    "cursor = connection.cursor()\n",
    "print(\"Succesfully Connected\")\n",
    "cursor.execute(\"\"\"USE little_lemon_db\"\"\")\n",
    "cursor.execute(\"\"\"SELECT * FROM Bookings\"\"\")\n",
    "result = cursor.fetchall()\n",
    "print(result)\n",
    "\n"
   ]
  },
  {
   "cell_type": "code",
   "execution_count": 14,
   "id": "709d2af8-a471-44c8-a0ef-47f12fcfb7e5",
   "metadata": {},
   "outputs": [
    {
     "name": "stdout",
     "output_type": "stream",
     "text": [
      "Succesfully Connected\n",
      "Cursor is Created\n"
     ]
    }
   ],
   "source": [
    "try:\n",
    "   \n",
    "     connection = connector.connect(host=os.getenv(\"DB_HOST\"),\n",
    "                                    port=3306, \n",
    "                                    user=os.getenv(\"DB_USER\"),\n",
    "                                    password=os.getenv(\"DB_PASSWORD\"))\n",
    "    print(\"Succesfully Connected\")\n",
    "    cursor = connection.cursor()\n",
    "    print(\"Cursor is Created\")\n",
    "except:\n",
    "    print(\"Failed to Connect\")"
   ]
  },
  {
   "cell_type": "code",
   "execution_count": 36,
   "id": "3a9d2f69-dac6-4eb2-8d89-bba5c61c3238",
   "metadata": {},
   "outputs": [],
   "source": [
    "cursor = connection.cursor()\n",
    "cursor.execute(\"\"\" USE little_lemon_db\"\"\")"
   ]
  },
  {
   "cell_type": "code",
   "execution_count": 24,
   "id": "0b60e471-01e1-4944-ba58-23d66dc518e5",
   "metadata": {},
   "outputs": [
    {
     "name": "stdout",
     "output_type": "stream",
     "text": [
      "Manager : Mario Gollini, EmployeeID: 1\n",
      "Employee with the highest Salary is Mario Gollini with the role of Manager\n"
     ]
    }
   ],
   "source": [
    "#Analysis\n",
    "cursor.execute(\"\"\" SELECT Name, EmployeeID FROM Employees WHERE Role = \"Manager\";\"\"\")\n",
    "manager = cursor.fetchall()\n",
    "for r in manager:\n",
    "    print(f\"Manager : {r[0]}, EmployeeID: {r[1]}\")\n",
    "\n",
    "cursor.execute(\"\"\" SELECT Name, Role FROM Employees WHERE Annual_Salary = (SELECT MAX(Annual_Salary) FROM Employees);\"\"\")\n",
    "highest_salary = cursor.fetchall()\n",
    "for l in highest_salary:\n",
    "    print(f\"Employee with the highest Salary is {l[0]} with the role of {l[1]}\")"
   ]
  },
  {
   "cell_type": "code",
   "execution_count": 31,
   "id": "cc4c50be-d494-4773-a877-8d498b71b85b",
   "metadata": {},
   "outputs": [
    {
     "name": "stdout",
     "output_type": "stream",
     "text": [
      "[(10,)]\n"
     ]
    }
   ],
   "source": [
    "cursor.execute(\"\"\" SELECT COUNT(*) FROM Bookings WHERE BookingSlot BETWEEN '18:00:00' AND '20:00:00';\"\"\")\n",
    "no_bookings= cursor.fetchall()\n",
    "print(no_bookings)"
   ]
  },
  {
   "cell_type": "code",
   "execution_count": 33,
   "id": "37ad3ef9-8ea3-4535-9416-b19f82a32c0e",
   "metadata": {},
   "outputs": [
    {
     "name": "stdout",
     "output_type": "stream",
     "text": [
      "Full Name: Diana Pinto, BookingID: 6\n",
      "Full Name: Jay Kon, BookingID: 11\n",
      "Full Name: Jay Kon, BookingID: 14\n",
      "Full Name: Anna Iversen, BookingID: 1\n",
      "Full Name: Joakim Iversen, BookingID: 2\n",
      "Full Name: Bald Vin, BookingID: 10\n",
      "Full Name: Bald Vin, BookingID: 13\n",
      "Full Name: Hiroki Yamane, BookingID: 5\n",
      "Full Name: Anees Java, BookingID: 9\n",
      "Full Name: Anees Java, BookingID: 12\n",
      "Full Name: Marcos Romero, BookingID: 4\n",
      "Full Name: Vanessa McCarthy, BookingID: 3\n"
     ]
    }
   ],
   "source": [
    "\n",
    "cursor.execute(\"\"\"SELECT CONCAT(GuestFirstName, ' ', GuestLastName) AS FullName, BookingID FROM Bookings ORDER BY BookingSlot DESC;\"\"\")\n",
    "\n",
    "\n",
    "guest = cursor.fetchall()\n",
    "\n",
    "# Print the results\n",
    "for g in guest:\n",
    "    print(f\"Full Name: {g[0]}, BookingID: {g[1]}\")\n"
   ]
  },
  {
   "cell_type": "code",
   "execution_count": 47,
   "id": "47818964-f63d-4200-94bd-c519fc37f05f",
   "metadata": {},
   "outputs": [
    {
     "name": "stdout",
     "output_type": "stream",
     "text": [
      "Total Sales today: 243$, Average Bill Amount: 48.6000, Highest Bill: 86, Lowest Bill: 37\n"
     ]
    }
   ],
   "source": [
    "cursor.execute(\"\"\" CREATE PROCEDURE BasicSalesReport()\n",
    "BEGIN\n",
    "SELECT SUM(BillAmount), AVG(BillAmount),MAX(BillAmount),MIN(BillAmount) FROM Orders;\"\"\")\n",
    "#Call the stored procedure\n",
    "cursor.callproc(\"BasicSalesReport\")\n",
    "\n",
    "# Process each stored result\n",
    "for r in cursor.stored_results():\n",
    "    sales_report = r.fetchall()  \n",
    "    # Print the results\n",
    "    for l in sales_report:\n",
    "        print(f\"Total Sales today: {l[0]}$, Average Bill Amount: {l[1]}, Highest Bill: {l[2]}, Lowest Bill: {l[3]}\")\n",
    "\n",
    "   \n",
    "    \n",
    "\n"
   ]
  },
  {
   "cell_type": "code",
   "execution_count": 49,
   "id": "a88bd7bf-e661-4079-a99b-6943443ea6b2",
   "metadata": {},
   "outputs": [
    {
     "name": "stdout",
     "output_type": "stream",
     "text": [
      "Pool is created\n",
      "Full Name: Anees Java, BookingID: 9, EmployeeID: 6, Employee Name: John Millar\n",
      "Full Name: Anees Java, BookingID: 12, EmployeeID: 6, Employee Name: John Millar\n",
      "Full Name: Anna Iversen, BookingID: 1, EmployeeID: 1, Employee Name: Mario Gollini\n"
     ]
    }
   ],
   "source": [
    "#New Exercise\n",
    "from mysql.connector.pooling import MySQLConnectionPool\n",
    "\n",
    "try:\n",
    "    pool = MySQLConnectionPool(pool_name=\"mypool\",\n",
    "                               pool_size=5,\n",
    "                               user=os.getenv(\"DB_USER\"),\n",
    "                               password=os.getenv(\"DB_PASS\"),\n",
    "                               host=os.getenv(\"USER_HOST\"),\n",
    "                               port=3306,\n",
    "                               database=\"little_lemon_db\")\n",
    "    print(\"Pool is created\")\n",
    "    \n",
    "    connection = pool.get_connection()\n",
    "    \n",
    "    cursor = connection.cursor(buffered=True)\n",
    "    \n",
    "    query = \"\"\"\n",
    "    SELECT \n",
    "        CONCAT(b.GuestFirstName, ' ', b.GuestLastName) AS FullName,\n",
    "        b.BookingID,\n",
    "        e.EmployeeID,\n",
    "        e.Name AS EmployeeName\n",
    "    FROM \n",
    "        Bookings b\n",
    "    JOIN \n",
    "        Employees e ON b.EmployeeID = e.EmployeeID\n",
    "    ORDER BY \n",
    "        FullName ASC\n",
    "    LIMIT 3;\n",
    "    \"\"\"\n",
    "    \n",
    "    cursor.execute(query)\n",
    "\n",
    "    results = cursor.fetchall()\n",
    "    \n",
    "    for row in results:\n",
    "        print(f\"Full Name: {row[0]}, BookingID: {row[1]}, EmployeeID: {row[2]}, Employee Name: {row[3]}\")\n",
    "        \n",
    "except Exception as e:\n",
    "    print(f\"Failed to create pool or get connection: {e}\")\n",
    "    \n",
    "finally:\n",
    "    if cursor:\n",
    "        cursor.close()\n",
    "    if connection:\n",
    "        connection.close()\n",
    "\n"
   ]
  },
  {
   "cell_type": "code",
   "execution_count": null,
   "id": "549273cb-6847-4a7a-8c86-e54ac0b06c0c",
   "metadata": {},
   "outputs": [],
   "source": []
  }
 ],
 "metadata": {
  "kernelspec": {
   "display_name": "Python 3 (ipykernel)",
   "language": "python",
   "name": "python3"
  },
  "language_info": {
   "codemirror_mode": {
    "name": "ipython",
    "version": 3
   },
   "file_extension": ".py",
   "mimetype": "text/x-python",
   "name": "python",
   "nbconvert_exporter": "python",
   "pygments_lexer": "ipython3",
   "version": "3.12.2"
  }
 },
 "nbformat": 4,
 "nbformat_minor": 5
}
